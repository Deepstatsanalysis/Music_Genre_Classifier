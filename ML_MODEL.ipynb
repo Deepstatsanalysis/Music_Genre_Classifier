{
 "cells": [
  {
   "cell_type": "code",
   "execution_count": 2,
   "metadata": {},
   "outputs": [],
   "source": [
    "import numpy as np\n",
    "import pandas as pd\n",
    "import matplotlib.pyplot as plt \n",
    "import seaborn as sns\n",
    "from sklearn.preprocessing import StandardScaler\n",
    "from sklearn.model_selection import train_test_split\n",
    "from sklearn.svm import SVC\n",
    "import warnings \n",
    "warnings.filterwarnings(\"ignore\")"
   ]
  },
  {
   "cell_type": "markdown",
   "metadata": {},
   "source": [
    "# CLASSIFICATION \n",
    "Predict models with the extracted dataset"
   ]
  },
  {
   "cell_type": "code",
   "execution_count": 26,
   "metadata": {},
   "outputs": [
    {
     "data": {
      "text/html": [
       "<div>\n",
       "<style scoped>\n",
       "    .dataframe tbody tr th:only-of-type {\n",
       "        vertical-align: middle;\n",
       "    }\n",
       "\n",
       "    .dataframe tbody tr th {\n",
       "        vertical-align: top;\n",
       "    }\n",
       "\n",
       "    .dataframe thead th {\n",
       "        text-align: right;\n",
       "    }\n",
       "</style>\n",
       "<table border=\"1\" class=\"dataframe\">\n",
       "  <thead>\n",
       "    <tr style=\"text-align: right;\">\n",
       "      <th></th>\n",
       "      <th>index</th>\n",
       "      <th>genre</th>\n",
       "      <th>chrom_spec</th>\n",
       "      <th>spec_centroid</th>\n",
       "      <th>spec_bandwidth</th>\n",
       "      <th>spec_rolloff</th>\n",
       "      <th>zcr</th>\n",
       "      <th>tempo</th>\n",
       "      <th>rms</th>\n",
       "      <th>mfcc1</th>\n",
       "      <th>...</th>\n",
       "      <th>mfcc41</th>\n",
       "      <th>mfcc42</th>\n",
       "      <th>mfcc43</th>\n",
       "      <th>mfcc44</th>\n",
       "      <th>mfcc45</th>\n",
       "      <th>mfcc46</th>\n",
       "      <th>mfcc47</th>\n",
       "      <th>mfcc48</th>\n",
       "      <th>mfcc49</th>\n",
       "      <th>mfcc50</th>\n",
       "    </tr>\n",
       "  </thead>\n",
       "  <tbody>\n",
       "    <tr>\n",
       "      <th>0</th>\n",
       "      <td>0</td>\n",
       "      <td>blues</td>\n",
       "      <td>0.350088</td>\n",
       "      <td>1784.165850</td>\n",
       "      <td>2002.449060</td>\n",
       "      <td>3805.839606</td>\n",
       "      <td>0.083045</td>\n",
       "      <td>123.046875</td>\n",
       "      <td>0.130228</td>\n",
       "      <td>-113.570650</td>\n",
       "      <td>...</td>\n",
       "      <td>1.737207</td>\n",
       "      <td>-0.249805</td>\n",
       "      <td>-3.693819</td>\n",
       "      <td>-1.979933</td>\n",
       "      <td>-2.660221</td>\n",
       "      <td>-1.128808</td>\n",
       "      <td>0.707248</td>\n",
       "      <td>4.705580</td>\n",
       "      <td>0.645501</td>\n",
       "      <td>-2.445936</td>\n",
       "    </tr>\n",
       "    <tr>\n",
       "      <th>1</th>\n",
       "      <td>1</td>\n",
       "      <td>blues</td>\n",
       "      <td>0.340914</td>\n",
       "      <td>1530.176679</td>\n",
       "      <td>2039.036516</td>\n",
       "      <td>3550.522098</td>\n",
       "      <td>0.056040</td>\n",
       "      <td>107.666016</td>\n",
       "      <td>0.095948</td>\n",
       "      <td>-207.501685</td>\n",
       "      <td>...</td>\n",
       "      <td>1.132773</td>\n",
       "      <td>-1.661641</td>\n",
       "      <td>-2.498394</td>\n",
       "      <td>-2.912226</td>\n",
       "      <td>-4.111734</td>\n",
       "      <td>-2.870191</td>\n",
       "      <td>0.194629</td>\n",
       "      <td>0.953764</td>\n",
       "      <td>-2.822235</td>\n",
       "      <td>-3.975501</td>\n",
       "    </tr>\n",
       "    <tr>\n",
       "      <th>2</th>\n",
       "      <td>2</td>\n",
       "      <td>blues</td>\n",
       "      <td>0.363637</td>\n",
       "      <td>1552.811865</td>\n",
       "      <td>1747.702312</td>\n",
       "      <td>3042.260232</td>\n",
       "      <td>0.076291</td>\n",
       "      <td>161.499023</td>\n",
       "      <td>0.175570</td>\n",
       "      <td>-90.722595</td>\n",
       "      <td>...</td>\n",
       "      <td>3.726901</td>\n",
       "      <td>1.322144</td>\n",
       "      <td>-1.801256</td>\n",
       "      <td>-1.589433</td>\n",
       "      <td>1.614465</td>\n",
       "      <td>-1.590961</td>\n",
       "      <td>-4.517298</td>\n",
       "      <td>-3.311691</td>\n",
       "      <td>2.159647</td>\n",
       "      <td>-1.998483</td>\n",
       "    </tr>\n",
       "    <tr>\n",
       "      <th>3</th>\n",
       "      <td>3</td>\n",
       "      <td>blues</td>\n",
       "      <td>0.404785</td>\n",
       "      <td>1070.106615</td>\n",
       "      <td>1596.412872</td>\n",
       "      <td>2184.745799</td>\n",
       "      <td>0.033309</td>\n",
       "      <td>172.265625</td>\n",
       "      <td>0.141093</td>\n",
       "      <td>-199.544200</td>\n",
       "      <td>...</td>\n",
       "      <td>0.875079</td>\n",
       "      <td>-3.008363</td>\n",
       "      <td>-4.552734</td>\n",
       "      <td>-3.047183</td>\n",
       "      <td>-4.454864</td>\n",
       "      <td>-4.106451</td>\n",
       "      <td>-4.109830</td>\n",
       "      <td>-1.769092</td>\n",
       "      <td>-2.784498</td>\n",
       "      <td>-5.746883</td>\n",
       "    </tr>\n",
       "    <tr>\n",
       "      <th>4</th>\n",
       "      <td>4</td>\n",
       "      <td>blues</td>\n",
       "      <td>0.308526</td>\n",
       "      <td>1835.004266</td>\n",
       "      <td>1748.172116</td>\n",
       "      <td>3579.757627</td>\n",
       "      <td>0.101461</td>\n",
       "      <td>135.999178</td>\n",
       "      <td>0.091529</td>\n",
       "      <td>-160.337711</td>\n",
       "      <td>...</td>\n",
       "      <td>2.071163</td>\n",
       "      <td>0.596108</td>\n",
       "      <td>-2.696403</td>\n",
       "      <td>-5.808816</td>\n",
       "      <td>-6.010361</td>\n",
       "      <td>-2.101307</td>\n",
       "      <td>1.732747</td>\n",
       "      <td>2.219933</td>\n",
       "      <td>-3.609360</td>\n",
       "      <td>-3.765912</td>\n",
       "    </tr>\n",
       "  </tbody>\n",
       "</table>\n",
       "<p>5 rows × 59 columns</p>\n",
       "</div>"
      ],
      "text/plain": [
       "   index  genre  chrom_spec  spec_centroid  spec_bandwidth  spec_rolloff  \\\n",
       "0      0  blues    0.350088    1784.165850     2002.449060   3805.839606   \n",
       "1      1  blues    0.340914    1530.176679     2039.036516   3550.522098   \n",
       "2      2  blues    0.363637    1552.811865     1747.702312   3042.260232   \n",
       "3      3  blues    0.404785    1070.106615     1596.412872   2184.745799   \n",
       "4      4  blues    0.308526    1835.004266     1748.172116   3579.757627   \n",
       "\n",
       "        zcr       tempo       rms       mfcc1    ...       mfcc41    mfcc42  \\\n",
       "0  0.083045  123.046875  0.130228 -113.570650    ...     1.737207 -0.249805   \n",
       "1  0.056040  107.666016  0.095948 -207.501685    ...     1.132773 -1.661641   \n",
       "2  0.076291  161.499023  0.175570  -90.722595    ...     3.726901  1.322144   \n",
       "3  0.033309  172.265625  0.141093 -199.544200    ...     0.875079 -3.008363   \n",
       "4  0.101461  135.999178  0.091529 -160.337711    ...     2.071163  0.596108   \n",
       "\n",
       "     mfcc43    mfcc44    mfcc45    mfcc46    mfcc47    mfcc48    mfcc49  \\\n",
       "0 -3.693819 -1.979933 -2.660221 -1.128808  0.707248  4.705580  0.645501   \n",
       "1 -2.498394 -2.912226 -4.111734 -2.870191  0.194629  0.953764 -2.822235   \n",
       "2 -1.801256 -1.589433  1.614465 -1.590961 -4.517298 -3.311691  2.159647   \n",
       "3 -4.552734 -3.047183 -4.454864 -4.106451 -4.109830 -1.769092 -2.784498   \n",
       "4 -2.696403 -5.808816 -6.010361 -2.101307  1.732747  2.219933 -3.609360   \n",
       "\n",
       "     mfcc50  \n",
       "0 -2.445936  \n",
       "1 -3.975501  \n",
       "2 -1.998483  \n",
       "3 -5.746883  \n",
       "4 -3.765912  \n",
       "\n",
       "[5 rows x 59 columns]"
      ]
     },
     "execution_count": 26,
     "metadata": {},
     "output_type": "execute_result"
    }
   ],
   "source": [
    "df = pd.read_csv('FinalDataset.csv')\n",
    "Prediction_Scores={}\n",
    "df.head()\n"
   ]
  },
  {
   "cell_type": "code",
   "execution_count": 27,
   "metadata": {},
   "outputs": [
    {
     "data": {
      "text/plain": [
       "Index(['index', 'genre', 'chrom_spec', 'spec_centroid', 'spec_bandwidth',\n",
       "       'spec_rolloff', 'zcr', 'tempo', 'rms', 'mfcc1', 'mfcc2', 'mfcc3',\n",
       "       'mfcc4', 'mfcc5', 'mfcc6', 'mfcc7', 'mfcc8', 'mfcc9', 'mfcc10',\n",
       "       'mfcc11', 'mfcc12', 'mfcc13', 'mfcc14', 'mfcc15', 'mfcc16', 'mfcc17',\n",
       "       'mfcc18', 'mfcc19', 'mfcc20', 'mfcc21', 'mfcc22', 'mfcc23', 'mfcc24',\n",
       "       'mfcc25', 'mfcc26', 'mfcc27', 'mfcc28', 'mfcc29', 'mfcc30', 'mfcc31',\n",
       "       'mfcc32', 'mfcc33', 'mfcc34', 'mfcc35', 'mfcc36', 'mfcc37', 'mfcc38',\n",
       "       'mfcc39', 'mfcc40', 'mfcc41', 'mfcc42', 'mfcc43', 'mfcc44', 'mfcc45',\n",
       "       'mfcc46', 'mfcc47', 'mfcc48', 'mfcc49', 'mfcc50'],\n",
       "      dtype='object')"
      ]
     },
     "execution_count": 27,
     "metadata": {},
     "output_type": "execute_result"
    }
   ],
   "source": [
    "df.keys()"
   ]
  },
  {
   "cell_type": "code",
   "execution_count": 28,
   "metadata": {},
   "outputs": [
    {
     "name": "stdout",
     "output_type": "stream",
     "text": [
      "(999, 37)\n",
      "(999, 1)\n"
     ]
    }
   ],
   "source": [
    "X=df[['chrom_spec', 'spec_centroid', 'spec_bandwidth','spec_rolloff', 'zcr', 'tempo', 'rms', 'mfcc1', 'mfcc2', 'mfcc3','mfcc4', 'mfcc5', 'mfcc6', 'mfcc7', 'mfcc8', 'mfcc9', 'mfcc10','mfcc11', 'mfcc12', 'mfcc13', 'mfcc14', 'mfcc15', 'mfcc16', 'mfcc17','mfcc18', 'mfcc19', 'mfcc20', 'mfcc21', 'mfcc22', 'mfcc23', 'mfcc24','mfcc25', 'mfcc26', 'mfcc27', 'mfcc28', 'mfcc29', 'mfcc30']]\n",
    "Y=df[['genre']]\n",
    "print(X.shape)\n",
    "print(Y.shape)"
   ]
  },
  {
   "cell_type": "markdown",
   "metadata": {},
   "source": [
    "# Feature Scaling and Splitting Data"
   ]
  },
  {
   "cell_type": "code",
   "execution_count": 72,
   "metadata": {},
   "outputs": [
    {
     "name": "stdout",
     "output_type": "stream",
     "text": [
      "(100, 1)\n"
     ]
    }
   ],
   "source": [
    "from sklearn.preprocessing import StandardScaler\n",
    "from sklearn.model_selection import train_test_split\n",
    "X_train,X_test,Y_train,Y_test = train_test_split(X,Y,test_size=0.1,random_state=22)\n",
    "print(Y_test.shape)\n",
    "scaler = StandardScaler()\n",
    "X_train = scaler.fit_transform(X_train)\n",
    "X_test = scaler.transform(X_test)\n"
   ]
  },
  {
   "cell_type": "markdown",
   "metadata": {},
   "source": [
    "# Logistic Regression"
   ]
  },
  {
   "cell_type": "code",
   "execution_count": 31,
   "metadata": {},
   "outputs": [
    {
     "name": "stdout",
     "output_type": "stream",
     "text": [
      "Train data accuracy:  0.7274749721913237\n",
      "Test data accuracy:  0.72\n"
     ]
    }
   ],
   "source": [
    "from sklearn.linear_model import LogisticRegression\n",
    "modelLG = LogisticRegression(multi_class='ovr',solver='liblinear')\n",
    "modelLG.fit(X_train,Y_train)\n",
    "print(\"Train data accuracy: \",modelLG.score(X_train,Y_train))\n",
    "print(\"Test data accuracy: \", modelLG.score(X_test,Y_test))\n",
    "Prediction_Scores[\"Logistic Regression\"]=modelLG.score(X_test,Y_test)"
   ]
  },
  {
   "cell_type": "markdown",
   "metadata": {},
   "source": [
    "# NAIVE BAYES"
   ]
  },
  {
   "cell_type": "code",
   "execution_count": 33,
   "metadata": {},
   "outputs": [
    {
     "name": "stdout",
     "output_type": "stream",
     "text": [
      "Train data accuracy:  0.5027808676307007\n",
      "Test data accuracy:  0.54\n"
     ]
    }
   ],
   "source": [
    "#NAIVE BAYES\n",
    "from sklearn.naive_bayes import GaussianNB\n",
    "nb = GaussianNB()\n",
    "nb.fit(X_train,Y_train)\n",
    "print(\"Train data accuracy: \",nb.score(X_train,Y_train))\n",
    "print(\"Test data accuracy: \", nb.score(X_test,Y_test))\n",
    "Prediction_Scores[\"NAIVE BAYES\"]=nb.score(X_test,Y_test)"
   ]
  },
  {
   "cell_type": "markdown",
   "metadata": {},
   "source": [
    "# SVM"
   ]
  },
  {
   "cell_type": "code",
   "execution_count": 34,
   "metadata": {},
   "outputs": [
    {
     "name": "stdout",
     "output_type": "stream",
     "text": [
      "Train data accuracy:  0.8665183537263627 Test data accuracy:  0.71\n"
     ]
    }
   ],
   "source": [
    "# SVM\n",
    "from sklearn.svm import SVC\n",
    "svm = SVC(kernel='rbf') # testing various kernels\n",
    "svm.fit(X_train,Y_train)\n",
    "print(\"Train data accuracy: \",svm.score(X_train,Y_train),\"Test data accuracy: \", svm.score(X_test,Y_test))\n",
    "Prediction_Scores[\"SVM\"]=svm.score(X_test,Y_test)"
   ]
  },
  {
   "cell_type": "code",
   "execution_count": 73,
   "metadata": {},
   "outputs": [],
   "source": [
    "# TUNING HYPERPARAMETERS"
   ]
  },
  {
   "cell_type": "code",
   "execution_count": 35,
   "metadata": {},
   "outputs": [
    {
     "name": "stdout",
     "output_type": "stream",
     "text": [
      "# Tuning hyper-parameters\n",
      "\n",
      "Best parameters set found on development set:\n",
      "\n",
      "{'C': 10, 'gamma': 0.01, 'kernel': 'rbf'}\n",
      "\n",
      "Grid scores on development set:\n",
      "\n",
      "0.113 (+/-0.037) for {'C': 0.001, 'gamma': 0.01, 'kernel': 'rbf'}\n",
      "0.113 (+/-0.037) for {'C': 0.001, 'gamma': 0.001, 'kernel': 'rbf'}\n",
      "0.115 (+/-0.041) for {'C': 0.001, 'gamma': 0.0001, 'kernel': 'rbf'}\n",
      "0.115 (+/-0.041) for {'C': 0.001, 'gamma': 1e-05, 'kernel': 'rbf'}\n",
      "0.410 (+/-0.040) for {'C': 0.1, 'gamma': 0.01, 'kernel': 'rbf'}\n",
      "0.113 (+/-0.037) for {'C': 0.1, 'gamma': 0.001, 'kernel': 'rbf'}\n",
      "0.115 (+/-0.041) for {'C': 0.1, 'gamma': 0.0001, 'kernel': 'rbf'}\n",
      "0.115 (+/-0.041) for {'C': 0.1, 'gamma': 1e-05, 'kernel': 'rbf'}\n",
      "0.410 (+/-0.040) for {'C': 0.1, 'gamma': 0.01, 'kernel': 'rbf'}\n",
      "0.113 (+/-0.037) for {'C': 0.1, 'gamma': 0.001, 'kernel': 'rbf'}\n",
      "0.115 (+/-0.041) for {'C': 0.1, 'gamma': 0.0001, 'kernel': 'rbf'}\n",
      "0.115 (+/-0.041) for {'C': 0.1, 'gamma': 1e-05, 'kernel': 'rbf'}\n",
      "0.679 (+/-0.056) for {'C': 10, 'gamma': 0.01, 'kernel': 'rbf'}\n",
      "0.615 (+/-0.048) for {'C': 10, 'gamma': 0.001, 'kernel': 'rbf'}\n",
      "0.419 (+/-0.035) for {'C': 10, 'gamma': 0.0001, 'kernel': 'rbf'}\n",
      "0.115 (+/-0.041) for {'C': 10, 'gamma': 1e-05, 'kernel': 'rbf'}\n",
      "0.664 (+/-0.040) for {'C': 25, 'gamma': 0.01, 'kernel': 'rbf'}\n",
      "0.625 (+/-0.070) for {'C': 25, 'gamma': 0.001, 'kernel': 'rbf'}\n",
      "0.497 (+/-0.046) for {'C': 25, 'gamma': 0.0001, 'kernel': 'rbf'}\n",
      "0.285 (+/-0.068) for {'C': 25, 'gamma': 1e-05, 'kernel': 'rbf'}\n",
      "0.667 (+/-0.045) for {'C': 50, 'gamma': 0.01, 'kernel': 'rbf'}\n",
      "0.643 (+/-0.063) for {'C': 50, 'gamma': 0.001, 'kernel': 'rbf'}\n",
      "0.561 (+/-0.045) for {'C': 50, 'gamma': 0.0001, 'kernel': 'rbf'}\n",
      "0.385 (+/-0.049) for {'C': 50, 'gamma': 1e-05, 'kernel': 'rbf'}\n",
      "0.666 (+/-0.041) for {'C': 100, 'gamma': 0.01, 'kernel': 'rbf'}\n",
      "0.650 (+/-0.072) for {'C': 100, 'gamma': 0.001, 'kernel': 'rbf'}\n",
      "0.611 (+/-0.041) for {'C': 100, 'gamma': 0.0001, 'kernel': 'rbf'}\n",
      "0.422 (+/-0.035) for {'C': 100, 'gamma': 1e-05, 'kernel': 'rbf'}\n",
      "0.667 (+/-0.041) for {'C': 1000, 'gamma': 0.01, 'kernel': 'rbf'}\n",
      "0.640 (+/-0.068) for {'C': 1000, 'gamma': 0.001, 'kernel': 'rbf'}\n",
      "0.644 (+/-0.076) for {'C': 1000, 'gamma': 0.0001, 'kernel': 'rbf'}\n",
      "0.614 (+/-0.028) for {'C': 1000, 'gamma': 1e-05, 'kernel': 'rbf'}\n",
      "0.113 (+/-0.037) for {'C': 0.001, 'gamma': 0.01, 'kernel': 'sigmoid'}\n",
      "0.115 (+/-0.041) for {'C': 0.001, 'gamma': 0.001, 'kernel': 'sigmoid'}\n",
      "0.115 (+/-0.041) for {'C': 0.001, 'gamma': 0.0001, 'kernel': 'sigmoid'}\n",
      "0.115 (+/-0.041) for {'C': 0.001, 'gamma': 1e-05, 'kernel': 'sigmoid'}\n",
      "0.384 (+/-0.044) for {'C': 0.1, 'gamma': 0.01, 'kernel': 'sigmoid'}\n",
      "0.115 (+/-0.041) for {'C': 0.1, 'gamma': 0.001, 'kernel': 'sigmoid'}\n",
      "0.115 (+/-0.041) for {'C': 0.1, 'gamma': 0.0001, 'kernel': 'sigmoid'}\n",
      "0.115 (+/-0.041) for {'C': 0.1, 'gamma': 1e-05, 'kernel': 'sigmoid'}\n",
      "0.384 (+/-0.044) for {'C': 0.1, 'gamma': 0.01, 'kernel': 'sigmoid'}\n",
      "0.115 (+/-0.041) for {'C': 0.1, 'gamma': 0.001, 'kernel': 'sigmoid'}\n",
      "0.115 (+/-0.041) for {'C': 0.1, 'gamma': 0.0001, 'kernel': 'sigmoid'}\n",
      "0.115 (+/-0.041) for {'C': 0.1, 'gamma': 1e-05, 'kernel': 'sigmoid'}\n",
      "0.558 (+/-0.062) for {'C': 10, 'gamma': 0.01, 'kernel': 'sigmoid'}\n",
      "0.558 (+/-0.050) for {'C': 10, 'gamma': 0.001, 'kernel': 'sigmoid'}\n",
      "0.384 (+/-0.052) for {'C': 10, 'gamma': 0.0001, 'kernel': 'sigmoid'}\n",
      "0.115 (+/-0.041) for {'C': 10, 'gamma': 1e-05, 'kernel': 'sigmoid'}\n",
      "0.535 (+/-0.052) for {'C': 25, 'gamma': 0.01, 'kernel': 'sigmoid'}\n",
      "0.613 (+/-0.031) for {'C': 25, 'gamma': 0.001, 'kernel': 'sigmoid'}\n",
      "0.444 (+/-0.041) for {'C': 25, 'gamma': 0.0001, 'kernel': 'sigmoid'}\n",
      "0.115 (+/-0.041) for {'C': 25, 'gamma': 1e-05, 'kernel': 'sigmoid'}\n",
      "0.521 (+/-0.062) for {'C': 50, 'gamma': 0.01, 'kernel': 'sigmoid'}\n",
      "0.613 (+/-0.075) for {'C': 50, 'gamma': 0.001, 'kernel': 'sigmoid'}\n",
      "0.495 (+/-0.044) for {'C': 50, 'gamma': 0.0001, 'kernel': 'sigmoid'}\n",
      "0.285 (+/-0.068) for {'C': 50, 'gamma': 1e-05, 'kernel': 'sigmoid'}\n",
      "0.511 (+/-0.061) for {'C': 100, 'gamma': 0.01, 'kernel': 'sigmoid'}\n",
      "0.622 (+/-0.062) for {'C': 100, 'gamma': 0.001, 'kernel': 'sigmoid'}\n",
      "0.560 (+/-0.049) for {'C': 100, 'gamma': 0.0001, 'kernel': 'sigmoid'}\n",
      "0.384 (+/-0.052) for {'C': 100, 'gamma': 1e-05, 'kernel': 'sigmoid'}\n",
      "0.502 (+/-0.041) for {'C': 1000, 'gamma': 0.01, 'kernel': 'sigmoid'}\n",
      "0.611 (+/-0.055) for {'C': 1000, 'gamma': 0.001, 'kernel': 'sigmoid'}\n",
      "0.624 (+/-0.063) for {'C': 1000, 'gamma': 0.0001, 'kernel': 'sigmoid'}\n",
      "0.560 (+/-0.049) for {'C': 1000, 'gamma': 1e-05, 'kernel': 'sigmoid'}\n",
      "0.384 (+/-0.052) for {'C': 0.001, 'kernel': 'linear'}\n",
      "0.624 (+/-0.063) for {'C': 0.1, 'kernel': 'linear'}\n",
      "0.624 (+/-0.063) for {'C': 0.1, 'kernel': 'linear'}\n",
      "0.587 (+/-0.036) for {'C': 10, 'kernel': 'linear'}\n",
      "0.584 (+/-0.031) for {'C': 25, 'kernel': 'linear'}\n",
      "0.588 (+/-0.039) for {'C': 50, 'kernel': 'linear'}\n",
      "0.586 (+/-0.038) for {'C': 100, 'kernel': 'linear'}\n",
      "0.591 (+/-0.034) for {'C': 1000, 'kernel': 'linear'}\n",
      "\n"
     ]
    }
   ],
   "source": [
    "# tuning svm\n",
    "from sklearn.model_selection import GridSearchCV\n",
    "\n",
    "tuned_parameters = [{'kernel': ['rbf'], 'gamma': [1e-2, 1e-3, 1e-4, 1e-5],\n",
    "                     'C': [0.001, 0.10, 0.1, 10, 25, 50, 100, 1000]},\n",
    "                    {'kernel': ['sigmoid'], 'gamma': [1e-2, 1e-3, 1e-4, 1e-5],\n",
    "                     'C': [0.001, 0.10, 0.1, 10, 25, 50, 100, 1000]},\n",
    "                    {'kernel': ['linear'], 'C': [0.001, 0.10, 0.1, 10, 25, 50, 100, 1000]}\n",
    "                   ]\n",
    "\n",
    "print(\"# Tuning hyper-parameters\")\n",
    "print()\n",
    "clf = GridSearchCV(SVC(C=1), tuned_parameters, cv=5,\n",
    "                       scoring='accuracy')\n",
    "clf.fit(X_train, Y_train)\n",
    "print(\"Best parameters set found on development set:\")\n",
    "print()\n",
    "print(clf.best_params_)\n",
    "print()\n",
    "print(\"Grid scores on development set:\")\n",
    "print()\n",
    "means = clf.cv_results_['mean_test_score']\n",
    "stds = clf.cv_results_['std_test_score']\n",
    "for mean, std, params in zip(means, stds, clf.cv_results_['params']):\n",
    "    print(\"%0.3f (+/-%0.03f) for %r\"\n",
    "              % (mean, std * 2, params))\n",
    "print()\n"
   ]
  },
  {
   "cell_type": "code",
   "execution_count": 36,
   "metadata": {},
   "outputs": [
    {
     "data": {
      "text/plain": [
       "[<matplotlib.lines.Line2D at 0x1d716c885f8>]"
      ]
     },
     "execution_count": 36,
     "metadata": {},
     "output_type": "execute_result"
    },
    {
     "data": {
      "image/png": "[encoded data removed]",
      "text/plain": [
       "<Figure size 432x288 with 1 Axes>"
      ]
     },
     "metadata": {
      "needs_background": "light"
     },
     "output_type": "display_data"
    }
   ],
   "source": [
    "#finding the best c value\n",
    "scores=[]\n",
    "for i in range(1,100):\n",
    "    svm = SVC(C=i,gamma=1e-2,kernel='rbf') \n",
    "    svm.fit(X_train,Y_train)\n",
    "    scores.append(svm.score(X_test,Y_test))\n",
    "    #print(svm.score(X_test,Y_test))\n",
    "plt.plot(scores)"
   ]
  },
  {
   "cell_type": "code",
   "execution_count": 37,
   "metadata": {},
   "outputs": [
    {
     "name": "stdout",
     "output_type": "stream",
     "text": [
      "0.82\n"
     ]
    }
   ],
   "source": [
    "svm = SVC(C=12,gamma=1e-2,kernel='rbf') # further manually tuning C\n",
    "svm.fit(X_train,Y_train)\n",
    "#scores.append(svm.score(X_test,Y_test))\n",
    "print(svm.score(X_test,Y_test))\n",
    "Prediction_Scores[\"SVM\"]=svm.score(X_test,Y_test)"
   ]
  },
  {
   "cell_type": "markdown",
   "metadata": {},
   "source": [
    "# GradientBoosting "
   ]
  },
  {
   "cell_type": "code",
   "execution_count": 74,
   "metadata": {},
   "outputs": [
    {
     "name": "stdout",
     "output_type": "stream",
     "text": [
      "Train data accuracy:  0.9922135706340378 Test data accuracy:  0.68\n"
     ]
    }
   ],
   "source": [
    "#GradiesntBoosting\n",
    "from sklearn.ensemble import GradientBoostingClassifier\n",
    "gb = GradientBoostingClassifier(learning_rate=0.1 ,n_estimators=50)\n",
    "gb.fit(X_train,Y_train)\n",
    "print(\"Train data accuracy: \",gb.score(X_train,Y_train),\"Test data accuracy: \", gb.score(X_test,Y_test))\n",
    "Prediction_Scores[\"GradientBoosting\"]=gb.score(X_test,Y_test)"
   ]
  },
  {
   "cell_type": "markdown",
   "metadata": {},
   "source": [
    "# QDA"
   ]
  },
  {
   "cell_type": "code",
   "execution_count": 41,
   "metadata": {},
   "outputs": [
    {
     "name": "stdout",
     "output_type": "stream",
     "text": [
      "Train data accuracy:  0.9777530589543938 Test data accuracy:  0.73\n"
     ]
    }
   ],
   "source": [
    "# QDA\n",
    "from sklearn.discriminant_analysis import QuadraticDiscriminantAnalysis\n",
    "qda = QuadraticDiscriminantAnalysis()\n",
    "qda.fit(X_train,Y_train)\n",
    "print(\"Train data accuracy: \",qda.score(X_train,Y_train),\"Test data accuracy: \", qda.score(X_test,Y_test))\n",
    "Prediction_Scores[\"QDA\"]=qda.score(X_test,Y_test)"
   ]
  },
  {
   "cell_type": "markdown",
   "metadata": {},
   "source": [
    "# LDA"
   ]
  },
  {
   "cell_type": "code",
   "execution_count": 42,
   "metadata": {},
   "outputs": [
    {
     "name": "stdout",
     "output_type": "stream",
     "text": [
      "Train data accuracy:  0.7063403781979978 Test data accuracy:  0.75\n"
     ]
    }
   ],
   "source": [
    "#LDA\n",
    "from sklearn.discriminant_analysis import LinearDiscriminantAnalysis\n",
    "lda = LinearDiscriminantAnalysis()\n",
    "lda.fit(X_train,Y_train)\n",
    "print(\"Train data accuracy: \",lda.score(X_train,Y_train),\"Test data accuracy: \", lda.score(X_test,Y_test))\n",
    "Prediction_Scores[\"LDA\"]=lda.score(X_test,Y_test)"
   ]
  },
  {
   "cell_type": "markdown",
   "metadata": {},
   "source": [
    "# RandomForest"
   ]
  },
  {
   "cell_type": "code",
   "execution_count": 43,
   "metadata": {},
   "outputs": [
    {
     "name": "stdout",
     "output_type": "stream",
     "text": [
      "Train data accuracy:  0.9988876529477196 Test data accuracy:  0.71\n"
     ]
    }
   ],
   "source": [
    "# RandomForest\n",
    "from sklearn.ensemble import RandomForestClassifier\n",
    "rf = RandomForestClassifier(n_estimators=1000)\n",
    "rf.fit(X_train,Y_train)\n",
    "print(\"Train data accuracy: \",rf.score(X_train,Y_train),\"Test data accuracy: \", rf.score(X_test,Y_test))\n",
    "Prediction_Scores[\"RandomForest\"]=rf.score(X_test,Y_test)"
   ]
  },
  {
   "cell_type": "code",
   "execution_count": 75,
   "metadata": {},
   "outputs": [],
   "source": [
    "#tuning hyperparameters"
   ]
  },
  {
   "cell_type": "code",
   "execution_count": 21,
   "metadata": {},
   "outputs": [
    {
     "data": {
      "text/plain": [
       "GridSearchCV(cv='warn', error_score='raise-deprecating',\n",
       "       estimator=RandomForestClassifier(bootstrap=True, class_weight=None, criterion='gini',\n",
       "            max_depth=None, max_features='auto', max_leaf_nodes=None,\n",
       "            min_impurity_decrease=0.0, min_impurity_split=None,\n",
       "            min_samples_leaf=1, min_samples_split=2,\n",
       "            min_weight_fraction_leaf=0.0, n_estimators='warn', n_jobs=None,\n",
       "            oob_score=False, random_state=1, verbose=0, warm_start=False),\n",
       "       fit_params=None, iid='warn', n_jobs=None,\n",
       "       param_grid={'max_depth': [1, 3, 5, 7, 9, 11, 13, 15, 17, 19], 'n_estimators': [1, 51, 101, 151, 201, 251, 301, 351, 401, 451, 501, 551, 601, 651, 701, 751, 801, 851, 901, 951]},\n",
       "       pre_dispatch='2*n_jobs', refit=True, return_train_score='warn',\n",
       "       scoring=None, verbose=0)"
      ]
     },
     "execution_count": 21,
     "metadata": {},
     "output_type": "execute_result"
    }
   ],
   "source": [
    "from sklearn.model_selection import GridSearchCV\n",
    "paramgrid = {'max_depth': list(range(1, 20, 2)), 'n_estimators': list(range(1, 1000, 50))}\n",
    "grid_search=GridSearchCV(RandomForestClassifier(random_state=1),paramgrid)\n",
    "from sklearn.model_selection import train_test_split \n",
    "x_train, x_cv, y_train, y_cv = train_test_split(X,Y, test_size =0.3, random_state=1)\n",
    "grid_search.fit(x_train,y_train)"
   ]
  },
  {
   "cell_type": "code",
   "execution_count": 22,
   "metadata": {},
   "outputs": [
    {
     "data": {
      "text/plain": [
       "RandomForestClassifier(bootstrap=True, class_weight=None, criterion='gini',\n",
       "            max_depth=15, max_features='auto', max_leaf_nodes=None,\n",
       "            min_impurity_decrease=0.0, min_impurity_split=None,\n",
       "            min_samples_leaf=1, min_samples_split=2,\n",
       "            min_weight_fraction_leaf=0.0, n_estimators=451, n_jobs=None,\n",
       "            oob_score=False, random_state=1, verbose=0, warm_start=False)"
      ]
     },
     "execution_count": 22,
     "metadata": {},
     "output_type": "execute_result"
    }
   ],
   "source": [
    "grid_search.best_estimator_"
   ]
  },
  {
   "cell_type": "code",
   "execution_count": 45,
   "metadata": {},
   "outputs": [
    {
     "name": "stdout",
     "output_type": "stream",
     "text": [
      "Train data accuracy:  0.9988876529477196 Test data accuracy:  0.71\n"
     ]
    }
   ],
   "source": [
    "rf = RandomForestClassifier(max_depth=15,n_estimators=451)\n",
    "rf.fit(X_train,Y_train)\n",
    "print(\"Train data accuracy: \",rf.score(X_train,Y_train),\"Test data accuracy: \", rf.score(X_test,Y_test))\n",
    "Prediction_Scores[\"RandomForest\"]=rf.score(X_test,Y_test)"
   ]
  },
  {
   "cell_type": "markdown",
   "metadata": {},
   "source": [
    "# Nueral Networks"
   ]
  },
  {
   "cell_type": "code",
   "execution_count": 52,
   "metadata": {},
   "outputs": [
    {
     "name": "stdout",
     "output_type": "stream",
     "text": [
      "(100, 1)\n"
     ]
    }
   ],
   "source": [
    "X_train,X_test,Y_train,Y_test = train_test_split(X,Y,test_size=0.1,random_state=22)\n",
    "print(Y_test.shape)\n",
    "scaler = StandardScaler()\n",
    "X_train = scaler.fit_transform(X_train)\n",
    "X_test = scaler.transform(X_test)"
   ]
  },
  {
   "cell_type": "code",
   "execution_count": 53,
   "metadata": {},
   "outputs": [
    {
     "name": "stderr",
     "output_type": "stream",
     "text": [
      "Using TensorFlow backend.\n"
     ]
    },
    {
     "name": "stdout",
     "output_type": "stream",
     "text": [
      "WARNING:tensorflow:From C:\\Users\\VIGNESH\\Anaconda3\\lib\\site-packages\\tensorflow\\python\\framework\\op_def_library.py:263: colocate_with (from tensorflow.python.framework.ops) is deprecated and will be removed in a future version.\n",
      "Instructions for updating:\n",
      "Colocations handled automatically by placer.\n"
     ]
    }
   ],
   "source": [
    "from keras import models\n",
    "from keras import layers\n",
    "model = models.Sequential()\n",
    "model.add(layers.Dense(256, activation='relu', input_shape=(X_train.shape[1],)))\n",
    "\n",
    "model.add(layers.Dense(128, activation='relu'))\n",
    "\n",
    "model.add(layers.Dense(64, activation='relu'))\n",
    "\n",
    "model.add(layers.Dense(10, activation='softmax'))"
   ]
  },
  {
   "cell_type": "code",
   "execution_count": 54,
   "metadata": {},
   "outputs": [],
   "source": [
    "model.compile(optimizer='adam',loss='categorical_crossentropy',metrics=['accuracy'])"
   ]
  },
  {
   "cell_type": "code",
   "execution_count": 55,
   "metadata": {},
   "outputs": [
    {
     "data": {
      "text/plain": [
       "(899, 10)"
      ]
     },
     "execution_count": 55,
     "metadata": {},
     "output_type": "execute_result"
    }
   ],
   "source": [
    "from sklearn.preprocessing import LabelBinarizer\n",
    "encoder = LabelBinarizer()\n",
    "y_train = encoder.fit_transform(Y_train)\n",
    "y_test = encoder.transform(Y_test)\n",
    "y_train.shape"
   ]
  },
  {
   "cell_type": "code",
   "execution_count": 56,
   "metadata": {},
   "outputs": [
    {
     "name": "stdout",
     "output_type": "stream",
     "text": [
      "WARNING:tensorflow:From C:\\Users\\VIGNESH\\Anaconda3\\lib\\site-packages\\tensorflow\\python\\ops\\math_ops.py:3066: to_int32 (from tensorflow.python.ops.math_ops) is deprecated and will be removed in a future version.\n",
      "Instructions for updating:\n",
      "Use tf.cast instead.\n",
      "Epoch 1/150\n",
      "899/899 [==============================] - 1s 1ms/step - loss: 2.3605 - acc: 0.1446\n",
      "Epoch 2/150\n",
      "899/899 [==============================] - 0s 19us/step - loss: 2.2481 - acc: 0.1935\n",
      "Epoch 3/150\n",
      "899/899 [==============================] - 0s 14us/step - loss: 2.1683 - acc: 0.2803\n",
      "Epoch 4/150\n",
      "899/899 [==============================] - 0s 18us/step - loss: 2.0960 - acc: 0.3737\n",
      "Epoch 5/150\n",
      "899/899 [==============================] - 0s 17us/step - loss: 2.0295 - acc: 0.3849\n",
      "Epoch 6/150\n",
      "899/899 [==============================] - 0s 18us/step - loss: 1.9653 - acc: 0.3960\n",
      "Epoch 7/150\n",
      "899/899 [==============================] - 0s 20us/step - loss: 1.9026 - acc: 0.4027\n",
      "Epoch 8/150\n",
      "899/899 [==============================] - 0s 17us/step - loss: 1.8415 - acc: 0.4004\n",
      "Epoch 9/150\n",
      "899/899 [==============================] - 0s 32us/step - loss: 1.7830 - acc: 0.3982\n",
      "Epoch 10/150\n",
      "899/899 [==============================] - 0s 20us/step - loss: 1.7275 - acc: 0.4027\n",
      "Epoch 11/150\n",
      "899/899 [==============================] - 0s 19us/step - loss: 1.6756 - acc: 0.4127\n",
      "Epoch 12/150\n",
      "899/899 [==============================] - 0s 13us/step - loss: 1.6271 - acc: 0.4182\n",
      "Epoch 13/150\n",
      "899/899 [==============================] - 0s 12us/step - loss: 1.5802 - acc: 0.4316\n",
      "Epoch 14/150\n",
      "899/899 [==============================] - 0s 28us/step - loss: 1.5336 - acc: 0.4483\n",
      "Epoch 15/150\n",
      "899/899 [==============================] - 0s 54us/step - loss: 1.4869 - acc: 0.4694\n",
      "Epoch 16/150\n",
      "899/899 [==============================] - 0s 21us/step - loss: 1.4412 - acc: 0.4928\n",
      "Epoch 17/150\n",
      "899/899 [==============================] - 0s 20us/step - loss: 1.3969 - acc: 0.5250\n",
      "Epoch 18/150\n",
      "899/899 [==============================] - 0s 17us/step - loss: 1.3553 - acc: 0.5451\n",
      "Epoch 19/150\n",
      "899/899 [==============================] - 0s 17us/step - loss: 1.3162 - acc: 0.5695\n",
      "Epoch 20/150\n",
      "899/899 [==============================] - 0s 19us/step - loss: 1.2788 - acc: 0.5851\n",
      "Epoch 21/150\n",
      "899/899 [==============================] - 0s 19us/step - loss: 1.2423 - acc: 0.5973\n",
      "Epoch 22/150\n",
      "899/899 [==============================] - 0s 17us/step - loss: 1.2063 - acc: 0.6029\n",
      "Epoch 23/150\n",
      "899/899 [==============================] - 0s 19us/step - loss: 1.1720 - acc: 0.6096\n",
      "Epoch 24/150\n",
      "899/899 [==============================] - 0s 33us/step - loss: 1.1396 - acc: 0.6207\n",
      "Epoch 25/150\n",
      "899/899 [==============================] - 0s 29us/step - loss: 1.1088 - acc: 0.6296\n",
      "Epoch 26/150\n",
      "899/899 [==============================] - 0s 14us/step - loss: 1.0791 - acc: 0.6374\n",
      "Epoch 27/150\n",
      "899/899 [==============================] - 0s 20us/step - loss: 1.0503 - acc: 0.6518\n",
      "Epoch 28/150\n",
      "899/899 [==============================] - 0s 19us/step - loss: 1.0229 - acc: 0.6641\n",
      "Epoch 29/150\n",
      "899/899 [==============================] - 0s 18us/step - loss: 0.9966 - acc: 0.6763\n",
      "Epoch 30/150\n",
      "899/899 [==============================] - 0s 18us/step - loss: 0.9710 - acc: 0.6774\n",
      "Epoch 31/150\n",
      "899/899 [==============================] - 0s 17us/step - loss: 0.9457 - acc: 0.6819\n",
      "Epoch 32/150\n",
      "899/899 [==============================] - 0s 20us/step - loss: 0.9208 - acc: 0.6963\n",
      "Epoch 33/150\n",
      "899/899 [==============================] - 0s 20us/step - loss: 0.8965 - acc: 0.7030\n",
      "Epoch 34/150\n",
      "899/899 [==============================] - 0s 19us/step - loss: 0.8727 - acc: 0.7141\n",
      "Epoch 35/150\n",
      "899/899 [==============================] - 0s 49us/step - loss: 0.8491 - acc: 0.7219\n",
      "Epoch 36/150\n",
      "899/899 [==============================] - 0s 23us/step - loss: 0.8259 - acc: 0.7353\n",
      "Epoch 37/150\n",
      "899/899 [==============================] - 0s 19us/step - loss: 0.8032 - acc: 0.7453\n",
      "Epoch 38/150\n",
      "899/899 [==============================] - 0s 21us/step - loss: 0.7811 - acc: 0.7575\n",
      "Epoch 39/150\n",
      "899/899 [==============================] - 0s 52us/step - loss: 0.7594 - acc: 0.7675\n",
      "Epoch 40/150\n",
      "899/899 [==============================] - 0s 18us/step - loss: 0.7384 - acc: 0.7775\n",
      "Epoch 41/150\n",
      "899/899 [==============================] - 0s 18us/step - loss: 0.7179 - acc: 0.7842\n",
      "Epoch 42/150\n",
      "899/899 [==============================] - 0s 18us/step - loss: 0.6976 - acc: 0.7931\n",
      "Epoch 43/150\n",
      "899/899 [==============================] - 0s 18us/step - loss: 0.6781 - acc: 0.7909\n",
      "Epoch 44/150\n",
      "899/899 [==============================] - 0s 32us/step - loss: 0.6593 - acc: 0.7964\n",
      "Epoch 45/150\n",
      "899/899 [==============================] - 0s 28us/step - loss: 0.6408 - acc: 0.8031\n",
      "Epoch 46/150\n",
      "899/899 [==============================] - 0s 19us/step - loss: 0.6225 - acc: 0.8109\n",
      "Epoch 47/150\n",
      "899/899 [==============================] - 0s 23us/step - loss: 0.6047 - acc: 0.8154\n",
      "Epoch 48/150\n",
      "899/899 [==============================] - 0s 12us/step - loss: 0.5874 - acc: 0.8209\n",
      "Epoch 49/150\n",
      "899/899 [==============================] - 0s 18us/step - loss: 0.5705 - acc: 0.8298\n",
      "Epoch 50/150\n",
      "899/899 [==============================] - 0s 21us/step - loss: 0.5538 - acc: 0.8409\n",
      "Epoch 51/150\n",
      "899/899 [==============================] - 0s 17us/step - loss: 0.5373 - acc: 0.8454\n",
      "Epoch 52/150\n",
      "899/899 [==============================] - 0s 36us/step - loss: 0.5214 - acc: 0.8576\n",
      "Epoch 53/150\n",
      "899/899 [==============================] - 0s 21us/step - loss: 0.5061 - acc: 0.8598\n",
      "Epoch 54/150\n",
      "899/899 [==============================] - 0s 12us/step - loss: 0.4908 - acc: 0.8610\n",
      "Epoch 55/150\n",
      "899/899 [==============================] - 0s 16us/step - loss: 0.4757 - acc: 0.8687\n",
      "Epoch 56/150\n",
      "899/899 [==============================] - 0s 14us/step - loss: 0.4609 - acc: 0.8788\n",
      "Epoch 57/150\n",
      "899/899 [==============================] - 0s 17us/step - loss: 0.4464 - acc: 0.8821\n",
      "Epoch 58/150\n",
      "899/899 [==============================] - 0s 16us/step - loss: 0.4321 - acc: 0.8888\n",
      "Epoch 59/150\n",
      "899/899 [==============================] - 0s 18us/step - loss: 0.4180 - acc: 0.8977\n",
      "Epoch 60/150\n",
      "899/899 [==============================] - 0s 19us/step - loss: 0.4044 - acc: 0.8999\n",
      "Epoch 61/150\n",
      "899/899 [==============================] - 0s 19us/step - loss: 0.3910 - acc: 0.9077\n",
      "Epoch 62/150\n",
      "899/899 [==============================] - 0s 16us/step - loss: 0.3778 - acc: 0.9121\n",
      "Epoch 63/150\n",
      "899/899 [==============================] - 0s 19us/step - loss: 0.3649 - acc: 0.9155\n",
      "Epoch 64/150\n",
      "899/899 [==============================] - 0s 22us/step - loss: 0.3523 - acc: 0.9210\n",
      "Epoch 65/150\n",
      "899/899 [==============================] - 0s 18us/step - loss: 0.3398 - acc: 0.9221\n",
      "Epoch 66/150\n",
      "899/899 [==============================] - 0s 20us/step - loss: 0.3276 - acc: 0.9255\n",
      "Epoch 67/150\n",
      "899/899 [==============================] - 0s 23us/step - loss: 0.3157 - acc: 0.9288\n",
      "Epoch 68/150\n",
      "899/899 [==============================] - 0s 17us/step - loss: 0.3040 - acc: 0.9321\n",
      "Epoch 69/150\n",
      "899/899 [==============================] - 0s 17us/step - loss: 0.2926 - acc: 0.9399\n",
      "Epoch 70/150\n",
      "899/899 [==============================] - 0s 18us/step - loss: 0.2815 - acc: 0.9433\n",
      "Epoch 71/150\n",
      "899/899 [==============================] - 0s 27us/step - loss: 0.2707 - acc: 0.9444\n",
      "Epoch 72/150\n",
      "899/899 [==============================] - 0s 22us/step - loss: 0.2601 - acc: 0.9466\n",
      "Epoch 73/150\n",
      "899/899 [==============================] - 0s 29us/step - loss: 0.2498 - acc: 0.9488\n",
      "Epoch 74/150\n",
      "899/899 [==============================] - 0s 57us/step - loss: 0.2398 - acc: 0.9533\n",
      "Epoch 75/150\n",
      "899/899 [==============================] - 0s 24us/step - loss: 0.2300 - acc: 0.9555\n",
      "Epoch 76/150\n",
      "899/899 [==============================] - 0s 19us/step - loss: 0.2205 - acc: 0.9622\n",
      "Epoch 77/150\n",
      "899/899 [==============================] - 0s 19us/step - loss: 0.2112 - acc: 0.9622\n",
      "Epoch 78/150\n",
      "899/899 [==============================] - 0s 18us/step - loss: 0.2022 - acc: 0.9666\n",
      "Epoch 79/150\n",
      "899/899 [==============================] - 0s 21us/step - loss: 0.1934 - acc: 0.9700\n",
      "Epoch 80/150\n",
      "899/899 [==============================] - 0s 19us/step - loss: 0.1849 - acc: 0.9711\n",
      "Epoch 81/150\n",
      "899/899 [==============================] - 0s 14us/step - loss: 0.1767 - acc: 0.9733\n",
      "Epoch 82/150\n"
     ]
    },
    {
     "name": "stdout",
     "output_type": "stream",
     "text": [
      "899/899 [==============================] - 0s 16us/step - loss: 0.1688 - acc: 0.9766\n",
      "Epoch 83/150\n",
      "899/899 [==============================] - 0s 18us/step - loss: 0.1611 - acc: 0.9789\n",
      "Epoch 84/150\n",
      "899/899 [==============================] - 0s 41us/step - loss: 0.1538 - acc: 0.9800\n",
      "Epoch 85/150\n",
      "899/899 [==============================] - 0s 21us/step - loss: 0.1467 - acc: 0.9822\n",
      "Epoch 86/150\n",
      "899/899 [==============================] - 0s 16us/step - loss: 0.1399 - acc: 0.9855\n",
      "Epoch 87/150\n",
      "899/899 [==============================] - 0s 20us/step - loss: 0.1333 - acc: 0.9867\n",
      "Epoch 88/150\n",
      "899/899 [==============================] - 0s 18us/step - loss: 0.1271 - acc: 0.9878\n",
      "Epoch 89/150\n",
      "899/899 [==============================] - 0s 18us/step - loss: 0.1210 - acc: 0.9900\n",
      "Epoch 90/150\n",
      "899/899 [==============================] - 0s 33us/step - loss: 0.1153 - acc: 0.9911\n",
      "Epoch 91/150\n",
      "899/899 [==============================] - 0s 39us/step - loss: 0.1098 - acc: 0.9911\n",
      "Epoch 92/150\n",
      "899/899 [==============================] - 0s 30us/step - loss: 0.1046 - acc: 0.9911\n",
      "Epoch 93/150\n",
      "899/899 [==============================] - 0s 30us/step - loss: 0.0996 - acc: 0.9922\n",
      "Epoch 94/150\n",
      "899/899 [==============================] - 0s 20us/step - loss: 0.0948 - acc: 0.9933\n",
      "Epoch 95/150\n",
      "899/899 [==============================] - 0s 34us/step - loss: 0.0903 - acc: 0.9944\n",
      "Epoch 96/150\n",
      "899/899 [==============================] - 0s 48us/step - loss: 0.0860 - acc: 0.9944\n",
      "Epoch 97/150\n",
      "899/899 [==============================] - 0s 21us/step - loss: 0.0819 - acc: 0.9944\n",
      "Epoch 98/150\n",
      "899/899 [==============================] - 0s 24us/step - loss: 0.0780 - acc: 0.9956\n",
      "Epoch 99/150\n",
      "899/899 [==============================] - 0s 21us/step - loss: 0.0743 - acc: 0.9956\n",
      "Epoch 100/150\n",
      "899/899 [==============================] - 0s 30us/step - loss: 0.0708 - acc: 0.9967\n",
      "Epoch 101/150\n",
      "899/899 [==============================] - 0s 37us/step - loss: 0.0675 - acc: 0.9967\n",
      "Epoch 102/150\n",
      "899/899 [==============================] - 0s 36us/step - loss: 0.0643 - acc: 0.9967\n",
      "Epoch 103/150\n",
      "899/899 [==============================] - 0s 18us/step - loss: 0.0613 - acc: 0.9978\n",
      "Epoch 104/150\n",
      "899/899 [==============================] - 0s 26us/step - loss: 0.0585 - acc: 0.9978\n",
      "Epoch 105/150\n",
      "899/899 [==============================] - 0s 37us/step - loss: 0.0559 - acc: 0.9978\n",
      "Epoch 106/150\n",
      "899/899 [==============================] - 0s 33us/step - loss: 0.0534 - acc: 0.9978\n",
      "Epoch 107/150\n",
      "899/899 [==============================] - 0s 26us/step - loss: 0.0510 - acc: 0.9978\n",
      "Epoch 108/150\n",
      "899/899 [==============================] - 0s 22us/step - loss: 0.0487 - acc: 0.9978\n",
      "Epoch 109/150\n",
      "899/899 [==============================] - 0s 29us/step - loss: 0.0466 - acc: 0.9978\n",
      "Epoch 110/150\n",
      "899/899 [==============================] - 0s 24us/step - loss: 0.0446 - acc: 0.9978\n",
      "Epoch 111/150\n",
      "899/899 [==============================] - 0s 26us/step - loss: 0.0428 - acc: 0.9978\n",
      "Epoch 112/150\n",
      "899/899 [==============================] - 0s 20us/step - loss: 0.0410 - acc: 0.9989\n",
      "Epoch 113/150\n",
      "899/899 [==============================] - 0s 18us/step - loss: 0.0393 - acc: 0.9989\n",
      "Epoch 114/150\n",
      "899/899 [==============================] - 0s 22us/step - loss: 0.0377 - acc: 0.9989\n",
      "Epoch 115/150\n",
      "899/899 [==============================] - 0s 37us/step - loss: 0.0362 - acc: 0.9989\n",
      "Epoch 116/150\n",
      "899/899 [==============================] - 0s 23us/step - loss: 0.0348 - acc: 0.9989\n",
      "Epoch 117/150\n",
      "899/899 [==============================] - 0s 67us/step - loss: 0.0335 - acc: 0.9989\n",
      "Epoch 118/150\n",
      "899/899 [==============================] - 0s 32us/step - loss: 0.0322 - acc: 0.9989\n",
      "Epoch 119/150\n",
      "899/899 [==============================] - 0s 21us/step - loss: 0.0310 - acc: 0.9989\n",
      "Epoch 120/150\n",
      "899/899 [==============================] - 0s 28us/step - loss: 0.0299 - acc: 0.9989\n",
      "Epoch 121/150\n",
      "899/899 [==============================] - 0s 20us/step - loss: 0.0288 - acc: 0.9989\n",
      "Epoch 122/150\n",
      "899/899 [==============================] - 0s 22us/step - loss: 0.0278 - acc: 0.9989\n",
      "Epoch 123/150\n",
      "899/899 [==============================] - 0s 32us/step - loss: 0.0269 - acc: 0.9989\n",
      "Epoch 124/150\n",
      "899/899 [==============================] - 0s 28us/step - loss: 0.0260 - acc: 0.9989\n",
      "Epoch 125/150\n",
      "899/899 [==============================] - 0s 20us/step - loss: 0.0251 - acc: 0.9989\n",
      "Epoch 126/150\n",
      "899/899 [==============================] - 0s 19us/step - loss: 0.0243 - acc: 0.9989\n",
      "Epoch 127/150\n",
      "899/899 [==============================] - 0s 39us/step - loss: 0.0235 - acc: 0.9989\n",
      "Epoch 128/150\n",
      "899/899 [==============================] - 0s 26us/step - loss: 0.0228 - acc: 0.9989\n",
      "Epoch 129/150\n",
      "899/899 [==============================] - 0s 37us/step - loss: 0.0221 - acc: 0.9989\n",
      "Epoch 130/150\n",
      "899/899 [==============================] - 0s 22us/step - loss: 0.0214 - acc: 0.9989\n",
      "Epoch 131/150\n",
      "899/899 [==============================] - 0s 17us/step - loss: 0.0208 - acc: 0.9989\n",
      "Epoch 132/150\n",
      "899/899 [==============================] - 0s 32us/step - loss: 0.0202 - acc: 0.9989\n",
      "Epoch 133/150\n",
      "899/899 [==============================] - 0s 26us/step - loss: 0.0196 - acc: 0.9989\n",
      "Epoch 134/150\n",
      "899/899 [==============================] - 0s 21us/step - loss: 0.0191 - acc: 0.9989\n",
      "Epoch 135/150\n",
      "899/899 [==============================] - 0s 31us/step - loss: 0.0186 - acc: 0.9989\n",
      "Epoch 136/150\n",
      "899/899 [==============================] - 0s 22us/step - loss: 0.0181 - acc: 0.9989\n",
      "Epoch 137/150\n",
      "899/899 [==============================] - 0s 20us/step - loss: 0.0176 - acc: 0.9989\n",
      "Epoch 138/150\n",
      "899/899 [==============================] - 0s 20us/step - loss: 0.0172 - acc: 0.9989\n",
      "Epoch 139/150\n",
      "899/899 [==============================] - 0s 27us/step - loss: 0.0167 - acc: 0.9989\n",
      "Epoch 140/150\n",
      "899/899 [==============================] - 0s 18us/step - loss: 0.0163 - acc: 0.9989\n",
      "Epoch 141/150\n",
      "899/899 [==============================] - 0s 19us/step - loss: 0.0159 - acc: 0.9989\n",
      "Epoch 142/150\n",
      "899/899 [==============================] - 0s 23us/step - loss: 0.0156 - acc: 0.9989\n",
      "Epoch 143/150\n",
      "899/899 [==============================] - 0s 23us/step - loss: 0.0152 - acc: 0.9989\n",
      "Epoch 144/150\n",
      "899/899 [==============================] - 0s 17us/step - loss: 0.0149 - acc: 0.9989\n",
      "Epoch 145/150\n",
      "899/899 [==============================] - 0s 31us/step - loss: 0.0145 - acc: 0.9989\n",
      "Epoch 146/150\n",
      "899/899 [==============================] - 0s 17us/step - loss: 0.0142 - acc: 0.9989\n",
      "Epoch 147/150\n",
      "899/899 [==============================] - 0s 21us/step - loss: 0.0139 - acc: 0.9989\n",
      "Epoch 148/150\n",
      "899/899 [==============================] - 0s 28us/step - loss: 0.0136 - acc: 0.9989\n",
      "Epoch 149/150\n",
      "899/899 [==============================] - 0s 26us/step - loss: 0.0133 - acc: 0.9989\n",
      "Epoch 150/150\n",
      "899/899 [==============================] - 0s 18us/step - loss: 0.0131 - acc: 0.9989\n"
     ]
    }
   ],
   "source": [
    "history = model.fit(X_train,y_train,epochs=150,batch_size=900)"
   ]
  },
  {
   "cell_type": "code",
   "execution_count": 58,
   "metadata": {},
   "outputs": [
    {
     "name": "stdout",
     "output_type": "stream",
     "text": [
      "100/100 [==============================] - 0s 130us/step\n",
      "test_acc:  0.74\n"
     ]
    }
   ],
   "source": [
    "test_loss, test_acc = model.evaluate(X_test,y_test)\n",
    "print('test_acc: ',test_acc)\n",
    "Prediction_Scores[\"NueralNets\"]=test_acc"
   ]
  },
  {
   "cell_type": "markdown",
   "metadata": {},
   "source": [
    "# Results\n",
    "SVM seems to give the highest accuracy"
   ]
  },
  {
   "cell_type": "code",
   "execution_count": 71,
   "metadata": {},
   "outputs": [
    {
     "name": "stdout",
     "output_type": "stream",
     "text": [
      "{'Logistic Regression': 0.72, 'NAIVE BAYES': 0.54, 'SVM': 0.82, 'GradientBoosting': 0.67, 'QDA': 0.73, 'LDA': 0.75, 'RandomForest': 0.71, 'NueralNets': 0.74}\n"
     ]
    },
    {
     "data": {
      "image/png": "[encoded data removed]",
      "text/plain": [
       "<Figure size 432x288 with 1 Axes>"
      ]
     },
     "metadata": {
      "needs_background": "light"
     },
     "output_type": "display_data"
    },
    {
     "data": {
      "text/plain": [
       "<Figure size 1152x576 with 0 Axes>"
      ]
     },
     "metadata": {},
     "output_type": "display_data"
    }
   ],
   "source": [
    "print(Prediction_Scores)\n",
    "#plt.plot(Prediction_Scores)    \n",
    "names = list(Prediction_Scores.keys())\n",
    "values = list(Prediction_Scores.values())\n",
    "plt.bar(0,values[0],tick_label=names[0])\n",
    "plt.bar(1,values[1],tick_label=names[1])\n",
    "plt.bar(2,values[2],tick_label=names[2])\n",
    "plt.bar(3,values[3],tick_label=names[3])\n",
    "plt.bar(4,values[4],tick_label=names[4])\n",
    "plt.bar(5,values[5],tick_label=names[5])\n",
    "plt.bar(6,values[6],tick_label=names[6])\n",
    "plt.bar(7,values[7],tick_label=names[7])\n",
    "plt.xticks(range(0,8),names)\n",
    "plt.savefig('fruit.png')\n",
    "plt.figure(figsize=(16,8))\n",
    "plt.show()"
   ]
  },
  {
   "cell_type": "markdown",
   "metadata": {},
   "source": [
    "# Confusion Matrix to see the results of Genre \n",
    "Classical, Metal,Pop are predicted more accurately"
   ]
  },
  {
   "cell_type": "code",
   "execution_count": 67,
   "metadata": {},
   "outputs": [
    {
     "data": {
      "image/png": "[encoded data removed]",
      "text/plain": [
       "<Figure size 432x288 with 2 Axes>"
      ]
     },
     "metadata": {
      "needs_background": "light"
     },
     "output_type": "display_data"
    },
    {
     "data": {
      "text/plain": [
       "<Figure size 864x576 with 0 Axes>"
      ]
     },
     "metadata": {},
     "output_type": "display_data"
    }
   ],
   "source": [
    "Y_pred = svm.predict(X_test)\n",
    "\n",
    "# plotting confusion matrix of our classifier\n",
    "\n",
    "from sklearn.metrics import confusion_matrix\n",
    "import matplotlib.pyplot as plt\n",
    "from matplotlib.ticker import MultipleLocator\n",
    " \n",
    "labels = ['blues','classical','country', 'disco','hiphop', 'jazz', 'metal', 'pop','reggae', 'rock']\n",
    "\n",
    "cm = confusion_matrix(Y_test,Y_pred,labels)\n",
    "\n",
    "fig = plt.figure()\n",
    "ax = fig.add_subplot(111)\n",
    "cax = ax.matshow(cm)\n",
    "plt.title(\"Confusion Matrix\")\n",
    "plt.colorbar(cax)\n",
    "ax.xaxis.set_major_locator(MultipleLocator(1))\n",
    "ax.yaxis.set_major_locator(MultipleLocator(1))\n",
    "ax.set_xticklabels([''] + labels)\n",
    "ax.set_yticklabels([''] + labels)\n",
    "plt.xlabel(\"Predicted genre\")\n",
    "plt.ylabel(\"True genre\")\n",
    "plt.figure(figsize=(12,8))\n",
    "plt.show()"
   ]
  },
  {
   "cell_type": "code",
   "execution_count": null,
   "metadata": {},
   "outputs": [],
   "source": []
  },
  {
   "cell_type": "code",
   "execution_count": null,
   "metadata": {},
   "outputs": [],
   "source": []
  }
 ],
 "metadata": {
  "kernelspec": {
   "display_name": "Python 3",
   "language": "python",
   "name": "python3"
  },
  "language_info": {
   "codemirror_mode": {
    "name": "ipython",
    "version": 3
   },
   "file_extension": ".py",
   "mimetype": "text/x-python",
   "name": "python",
   "nbconvert_exporter": "python",
   "pygments_lexer": "ipython3",
   "version": "3.7.1"
  }
 },
 "nbformat": 4,
 "nbformat_minor": 2
}
